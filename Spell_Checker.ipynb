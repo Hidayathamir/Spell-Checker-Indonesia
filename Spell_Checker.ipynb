{
  "nbformat": 4,
  "nbformat_minor": 0,
  "metadata": {
    "colab": {
      "name": "Spell Checker.ipynb",
      "provenance": [],
      "authorship_tag": "ABX9TyOTtrYSsfJsOeDZnDiP7Uld",
      "include_colab_link": true
    },
    "kernelspec": {
      "display_name": "Python 3",
      "name": "python3"
    }
  },
  "cells": [
    {
      "cell_type": "markdown",
      "metadata": {
        "id": "view-in-github",
        "colab_type": "text"
      },
      "source": [
        "<a href=\"https://colab.research.google.com/github/Hidayathamir/Spell-Checker-Indonesia/blob/main/Spell_Checker.ipynb\" target=\"_parent\"><img src=\"https://colab.research.google.com/assets/colab-badge.svg\" alt=\"Open In Colab\"/></a>"
      ]
    },
    {
      "cell_type": "code",
      "metadata": {
        "colab": {
          "base_uri": "https://localhost:8080/"
        },
        "id": "3DxsMF1Gt6W3",
        "outputId": "349de0dc-275e-41ff-a15b-f3ce3c32ab41"
      },
      "source": [
        "!pip install sastrawi"
      ],
      "execution_count": 1,
      "outputs": [
        {
          "output_type": "stream",
          "text": [
            "Requirement already satisfied: sastrawi in /usr/local/lib/python3.7/dist-packages (1.0.1)\n"
          ],
          "name": "stdout"
        }
      ]
    },
    {
      "cell_type": "code",
      "metadata": {
        "colab": {
          "base_uri": "https://localhost:8080/"
        },
        "id": "75Oq-LdZISkM",
        "outputId": "2c7e67f9-475d-4f41-f5d1-a284ac124c02"
      },
      "source": [
        "import pandas as pd\r\n",
        "import string\r\n",
        "import nltk\r\n",
        "nltk.download('punkt')\r\n",
        "from nltk import word_tokenize\r\n",
        "from Sastrawi.Stemmer.StemmerFactory import StemmerFactory"
      ],
      "execution_count": 2,
      "outputs": [
        {
          "output_type": "stream",
          "text": [
            "[nltk_data] Downloading package punkt to /root/nltk_data...\n",
            "[nltk_data]   Package punkt is already up-to-date!\n"
          ],
          "name": "stdout"
        }
      ]
    },
    {
      "cell_type": "code",
      "metadata": {
        "colab": {
          "base_uri": "https://localhost:8080/",
          "height": 391
        },
        "id": "SnVpXzSRIm0r",
        "outputId": "7a3e8a9c-4295-4686-c9c3-3d07826a3e85"
      },
      "source": [
        "kbbi = pd.read_csv('https://raw.githubusercontent.com/Hidayathamir/kata-kbbi-github/main/kbbi.csv')\r\n",
        "kbbi"
      ],
      "execution_count": 3,
      "outputs": [
        {
          "output_type": "execute_result",
          "data": {
            "text/html": [
              "<div>\n",
              "<style scoped>\n",
              "    .dataframe tbody tr th:only-of-type {\n",
              "        vertical-align: middle;\n",
              "    }\n",
              "\n",
              "    .dataframe tbody tr th {\n",
              "        vertical-align: top;\n",
              "    }\n",
              "\n",
              "    .dataframe thead th {\n",
              "        text-align: right;\n",
              "    }\n",
              "</style>\n",
              "<table border=\"1\" class=\"dataframe\">\n",
              "  <thead>\n",
              "    <tr style=\"text-align: right;\">\n",
              "      <th></th>\n",
              "      <th>kata</th>\n",
              "    </tr>\n",
              "  </thead>\n",
              "  <tbody>\n",
              "    <tr>\n",
              "      <th>0</th>\n",
              "      <td>alokasi</td>\n",
              "    </tr>\n",
              "    <tr>\n",
              "      <th>1</th>\n",
              "      <td>anyel</td>\n",
              "    </tr>\n",
              "    <tr>\n",
              "      <th>2</th>\n",
              "      <td>ahsan</td>\n",
              "    </tr>\n",
              "    <tr>\n",
              "      <th>3</th>\n",
              "      <td>abalone</td>\n",
              "    </tr>\n",
              "    <tr>\n",
              "      <th>4</th>\n",
              "      <td>assalamualaikum</td>\n",
              "    </tr>\n",
              "    <tr>\n",
              "      <th>...</th>\n",
              "      <td>...</td>\n",
              "    </tr>\n",
              "    <tr>\n",
              "      <th>72417</th>\n",
              "      <td>zawiah</td>\n",
              "    </tr>\n",
              "    <tr>\n",
              "      <th>72418</th>\n",
              "      <td>zooaprokrisis</td>\n",
              "    </tr>\n",
              "    <tr>\n",
              "      <th>72419</th>\n",
              "      <td>zabib</td>\n",
              "    </tr>\n",
              "    <tr>\n",
              "      <th>72420</th>\n",
              "      <td>zeodaria</td>\n",
              "    </tr>\n",
              "    <tr>\n",
              "      <th>72421</th>\n",
              "      <td>zimurgi</td>\n",
              "    </tr>\n",
              "  </tbody>\n",
              "</table>\n",
              "<p>72422 rows × 1 columns</p>\n",
              "</div>"
            ],
            "text/plain": [
              "                  kata\n",
              "0              alokasi\n",
              "1                anyel\n",
              "2                ahsan\n",
              "3              abalone\n",
              "4      assalamualaikum\n",
              "...                ...\n",
              "72417           zawiah\n",
              "72418    zooaprokrisis\n",
              "72419            zabib\n",
              "72420         zeodaria\n",
              "72421          zimurgi\n",
              "\n",
              "[72422 rows x 1 columns]"
            ]
          },
          "metadata": {
            "tags": []
          },
          "execution_count": 3
        }
      ]
    },
    {
      "cell_type": "code",
      "metadata": {
        "id": "qB50URJZQj60"
      },
      "source": [
        "def set_from_txt(filename):\r\n",
        "  with open(filename, 'r') as file:\r\n",
        "    text = file.read().lower()\r\n",
        "    # replace punctuation with whitespace\r\n",
        "    translator = str.maketrans(string.punctuation, ' '*len(string.punctuation))\r\n",
        "    text = text.translate(translator)\r\n",
        "    tokens = [token for token in word_tokenize(text) if token.isalpha()]\r\n",
        "    set_text = set(tokens)\r\n",
        "    return set_text"
      ],
      "execution_count": 4,
      "outputs": []
    },
    {
      "cell_type": "code",
      "metadata": {
        "id": "AQr8ScaDt_UY"
      },
      "source": [
        "stemmer = StemmerFactory().create_stemmer()"
      ],
      "execution_count": 5,
      "outputs": []
    },
    {
      "cell_type": "code",
      "metadata": {
        "id": "VJqnoWDrT2x4"
      },
      "source": [
        "set_txt  = set_from_txt('example.txt')\r\n",
        "set_kbbi = set(kbbi['kata'])\r\n",
        "set_error = set_txt - set_kbbi\r\n",
        "for kata in set_error.copy():\r\n",
        "  kata_stem = stemmer.stem(kata)\r\n",
        "  if kata_stem in set_kbbi:\r\n",
        "    set_error.remove(kata)"
      ],
      "execution_count": 6,
      "outputs": []
    },
    {
      "cell_type": "code",
      "metadata": {
        "id": "CiRxUj-W8l1H"
      },
      "source": [
        "sorted(set_error)"
      ],
      "execution_count": null,
      "outputs": []
    }
  ]
}